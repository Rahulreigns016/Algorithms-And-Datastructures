{
 "cells": [
  {
   "cell_type": "markdown",
   "metadata": {},
   "source": [
    "# Singly Linked List"
   ]
  },
  {
   "cell_type": "code",
   "execution_count": 46,
   "metadata": {},
   "outputs": [],
   "source": [
    "class SLLNode:\n",
    "    # Singly Linked List node consists of two portions -> 'value' and 'next' pointer   \n",
    "    def __init__(self, value):\n",
    "        self.value = value\n",
    "        self.next = None\n",
    "        "
   ]
  },
  {
   "cell_type": "code",
   "execution_count": 47,
   "metadata": {},
   "outputs": [],
   "source": [
    "class SinglyLinkedList:\n",
    "    # My Linked List contains a 'head', a 'tail', and a 'length'.\n",
    "    def __init__(self):\n",
    "        self.head = None\n",
    "        self.tail = None\n",
    "        self.length = 0\n",
    "        \n",
    "    # Inserts the new Node at the tail.\n",
    "    def push(self, value):\n",
    "        newNode = SLLNode(value)\n",
    "        if not self.head:\n",
    "            self.head = newNode\n",
    "            self.tail = newNode\n",
    "        else:\n",
    "            self.tail.next = newNode\n",
    "            self.tail = newNode\n",
    "        self.length += 1\n",
    "        return self\n",
    "        \n",
    "    # Removes the tail node and makes the previous node the tail.\n",
    "    def pop(self):\n",
    "        if self.length == 0:\n",
    "            return None\n",
    "        \n",
    "        removed = self.tail\n",
    "        if self.length == 1:\n",
    "            self.head = None\n",
    "            self.tail = None\n",
    "        else:\n",
    "            prev = self.head\n",
    "            temp = self.head\n",
    "            while temp.next != None:\n",
    "                prev = temp\n",
    "                temp = temp.next\n",
    "            self.tail = prev\n",
    "            self.tail.next = None\n",
    "        self.length -= 1\n",
    "        return removed.value\n",
    "    \n",
    "    # Inserts a new Node at the head.\n",
    "    def unshift(self, value):\n",
    "        newNode = SLLNode(value)\n",
    "        if not self.head:\n",
    "            self.head = newNode\n",
    "            self.tail = newNode\n",
    "        else:\n",
    "            newNode.next = self.head\n",
    "            self.head = newNode\n",
    "        self.length += 1\n",
    "        return self\n",
    "    \n",
    "    # Removes the head and makes next node as head.\n",
    "    def shift(self):\n",
    "        if self.length == 0:\n",
    "            return None\n",
    "        \n",
    "        removed = self.head\n",
    "        if self.length == 1:\n",
    "            self.head = None\n",
    "            self.tail = None\n",
    "        else:\n",
    "            self.head = removed.next\n",
    "            removed.next = None\n",
    "        self.length -= 1\n",
    "        return removed.value\n",
    "    \n",
    "    # Returns the node at the given position.\n",
    "    def get(self, pos):\n",
    "        if (pos < 0 or pos >= self.length):\n",
    "            return None\n",
    "        temp = self.head\n",
    "        for i in range(pos):\n",
    "            temp = temp.next\n",
    "        return temp\n",
    "    \n",
    "    # Updates the value of the node at the position specified position with a given value. \n",
    "    def set(self, pos, value):\n",
    "        if (pos < 0 or pos >= self.length):\n",
    "            return None\n",
    "        if self.length == 0:\n",
    "            return None\n",
    "        current = self.get(pos)\n",
    "        if current:\n",
    "            current.value = value\n",
    "            return current.value\n",
    "        return False\n",
    "        \n",
    "    # Inserts the node at the specified position.\n",
    "    def insert(self, pos, value):\n",
    "        if (pos < 0 or pos > self.length):\n",
    "            return None\n",
    "        if pos == 0:\n",
    "            return self.unshift(value)\n",
    "        elif pos == self.length:\n",
    "            return self.push(value)\n",
    "        newNode = SLLNode(value)\n",
    "        prev = self.get (pos - 1)\n",
    "        current = self.get(pos)\n",
    "        newNode.next = current\n",
    "        prev.next = newNode\n",
    "        self.length += 1\n",
    "        return self\n",
    "    \n",
    "    # Removes the node from the specified position.\n",
    "    def remove(self, pos):\n",
    "        if (pos < 0 or pos > self.length):\n",
    "            return None\n",
    "        if pos == 0:\n",
    "            return self.shift()\n",
    "        if pos == self.length - 1:\n",
    "            return self.pop()\n",
    "        prev = self.get(pos - 1)\n",
    "        current = self.get(pos)\n",
    "        prev.next = current.next\n",
    "        self.length -= 1\n",
    "        return current.value\n",
    "    \n",
    "    # Reverses the Linked List.\n",
    "    def reverse(self):\n",
    "        node = self.head\n",
    "        self.head = self.tail\n",
    "        self.tail = node\n",
    "        prev = None\n",
    "        after = None\n",
    "        for i in range(self.length):\n",
    "            after = node.next\n",
    "            node.next = prev\n",
    "            prev = node\n",
    "            node = after\n",
    "        return self\n",
    "    \n",
    "    # Prints the linked list as an array (For Debugging purposes).\n",
    "    def log(self):\n",
    "        current = self.head\n",
    "        print('Length of the Linked List: ', self.length)\n",
    "        arr = []\n",
    "        for i in range(self.length):\n",
    "            arr.append(current.value)\n",
    "            current = current.next\n",
    "        print(arr)"
   ]
  },
  {
   "cell_type": "code",
   "execution_count": 48,
   "metadata": {},
   "outputs": [
    {
     "data": {
      "text/plain": [
       "<__main__.SinglyLinkedList at 0x7f391e73ccf8>"
      ]
     },
     "execution_count": 48,
     "metadata": {},
     "output_type": "execute_result"
    }
   ],
   "source": [
    "l = SinglyLinkedList()\n",
    "l.push('Hi')\n",
    "l.push('How')\n",
    "l.push('are')\n",
    "l.push('You')\n",
    "l.push('?')\n",
    "# l.remove(2) # 'are'\n",
    "# l.shift()\n",
    "# l.shift()\n",
    "# l.shift()\n",
    "# l.shift()\n",
    "# l.shift()\n",
    "# l.pop()"
   ]
  },
  {
   "cell_type": "code",
   "execution_count": 49,
   "metadata": {},
   "outputs": [
    {
     "name": "stdout",
     "output_type": "stream",
     "text": [
      "Length of the Linked List:  5\n",
      "['Hi', 'How', 'are', 'You', '?']\n"
     ]
    }
   ],
   "source": [
    "l.log()"
   ]
  },
  {
   "cell_type": "code",
   "execution_count": null,
   "metadata": {},
   "outputs": [],
   "source": []
  },
  {
   "cell_type": "markdown",
   "metadata": {},
   "source": [
    "# Stack"
   ]
  },
  {
   "cell_type": "code",
   "execution_count": 50,
   "metadata": {},
   "outputs": [],
   "source": [
    "class StackNode:\n",
    "    def __init__(self, value):\n",
    "        self.value = value\n",
    "        self.next = None"
   ]
  },
  {
   "cell_type": "code",
   "execution_count": 51,
   "metadata": {},
   "outputs": [],
   "source": [
    "# Stack is a LIFO(Last In First Out Data Structure).\n",
    "class Stack:\n",
    "    def __init__(self):\n",
    "        self.first = None\n",
    "        self.last = None\n",
    "        self.size = 0\n",
    "    \n",
    "    def push(self, value):\n",
    "        newNode = StackNode(value)\n",
    "        \n",
    "        if not self.first:\n",
    "            self.first = newNode\n",
    "            self.last = newNode\n",
    "        else:\n",
    "            newNode.next = self.first\n",
    "            self.first = newNode\n",
    "        self.size += 1\n",
    "        return self\n",
    "    \n",
    "    def pop(self):\n",
    "        if self.size == 0:\n",
    "            return None\n",
    "        removed = self.first\n",
    "        self.first = self.first.next\n",
    "        removed.next = None\n",
    "        self.size -= 1\n",
    "        return removed.value\n",
    "    \n",
    "    def log(self):\n",
    "        temp = self.first\n",
    "        arr = []\n",
    "        for i in range(self.size):\n",
    "            arr.append(temp.value)\n",
    "            temp = temp.next\n",
    "        print(arr)"
   ]
  },
  {
   "cell_type": "code",
   "execution_count": 52,
   "metadata": {},
   "outputs": [
    {
     "data": {
      "text/plain": [
       "<__main__.Stack at 0x7f391e017be0>"
      ]
     },
     "execution_count": 52,
     "metadata": {},
     "output_type": "execute_result"
    }
   ],
   "source": [
    "s = Stack()\n",
    "s.push(3) # 3\n",
    "s.push(2) # 2 -> 3\n",
    "s.push(1) # 1 -> 2 -> 3\n",
    "\n",
    "# s.pop() # 1\n",
    "# s.pop() # 2\n",
    "# s.pop() # 3"
   ]
  },
  {
   "cell_type": "code",
   "execution_count": 53,
   "metadata": {},
   "outputs": [
    {
     "name": "stdout",
     "output_type": "stream",
     "text": [
      "[1, 2, 3]\n"
     ]
    }
   ],
   "source": [
    "s.log()"
   ]
  },
  {
   "cell_type": "code",
   "execution_count": null,
   "metadata": {},
   "outputs": [],
   "source": []
  },
  {
   "cell_type": "markdown",
   "metadata": {},
   "source": [
    "# Queue"
   ]
  },
  {
   "cell_type": "code",
   "execution_count": 54,
   "metadata": {},
   "outputs": [],
   "source": [
    "class QueueNode:\n",
    "    def __init__(self, value):\n",
    "        self.value = value\n",
    "        self.next = None"
   ]
  },
  {
   "cell_type": "code",
   "execution_count": 55,
   "metadata": {},
   "outputs": [],
   "source": [
    "# Queue is a FIFO(First In First Out Data Structure).\n",
    "class Queue:\n",
    "    def __init__(self):\n",
    "        self.start = None\n",
    "        self.end = None\n",
    "        self.length = 0\n",
    "    \n",
    "    def enqueue(self, value):\n",
    "        newNode = StackNode(value)\n",
    "        if not self.start:\n",
    "            self.start = newNode\n",
    "            self.end = newNode\n",
    "        else:\n",
    "            self.end.next = newNode\n",
    "            self.end = newNode\n",
    "        self.length += 1\n",
    "        return self\n",
    "    \n",
    "    def dequeue(self):\n",
    "        if self.length == 0:\n",
    "            return None\n",
    "        removed = self.start\n",
    "        self.start = self.start.next\n",
    "        removed.next = None\n",
    "        self.length -= 1\n",
    "        return removed.value\n",
    "    \n",
    "    def log(self):\n",
    "        temp = self.start\n",
    "        arr = []\n",
    "        for i in range(self.length):\n",
    "            arr.append(temp.value)\n",
    "            temp = temp.next\n",
    "        print(arr)"
   ]
  },
  {
   "cell_type": "code",
   "execution_count": 56,
   "metadata": {},
   "outputs": [
    {
     "data": {
      "text/plain": [
       "<__main__.Queue at 0x7f392c05c6d8>"
      ]
     },
     "execution_count": 56,
     "metadata": {},
     "output_type": "execute_result"
    }
   ],
   "source": [
    "q = Queue()\n",
    "q.enqueue(1) # 1\n",
    "q.enqueue(2) # 1 -> 2\n",
    "q.enqueue(3) # 1 -> 2 -> 3\n",
    "\n",
    "# q.dequeue() # 1\n",
    "# q.dequeue() # 2\n",
    "# q.dequeue() # 3"
   ]
  },
  {
   "cell_type": "code",
   "execution_count": 57,
   "metadata": {},
   "outputs": [
    {
     "name": "stdout",
     "output_type": "stream",
     "text": [
      "[1, 2, 3]\n"
     ]
    }
   ],
   "source": [
    "q.log()"
   ]
  },
  {
   "cell_type": "code",
   "execution_count": null,
   "metadata": {},
   "outputs": [],
   "source": []
  },
  {
   "cell_type": "markdown",
   "metadata": {},
   "source": [
    "# Binary Search Tree"
   ]
  },
  {
   "cell_type": "code",
   "execution_count": 58,
   "metadata": {},
   "outputs": [],
   "source": [
    "class BSTNode:\n",
    "    def __init__(self, value):\n",
    "        self.value = value\n",
    "        self.left = None\n",
    "        self.right = None"
   ]
  },
  {
   "cell_type": "code",
   "execution_count": 59,
   "metadata": {},
   "outputs": [],
   "source": [
    "class BinarySearchTree:\n",
    "    def __init__(self):\n",
    "        self.root = None\n",
    "    \n",
    "    def insert(self, value):\n",
    "        newNode = BSTNode(value)\n",
    "        if not self.root:\n",
    "            self.root = newNode\n",
    "            return self\n",
    "        else:\n",
    "            current = self.root\n",
    "            while True:\n",
    "                if value < current.value:\n",
    "                    if not current.left:\n",
    "                        current.left = newNode\n",
    "                        return self\n",
    "                    else:\n",
    "                        current = current.left\n",
    "                elif value > current.value:\n",
    "                    if not current.right:\n",
    "                        current.right = newNode\n",
    "                        return self\n",
    "                    else:\n",
    "                        current = current.right\n",
    "                else:\n",
    "                    return \"value already exists\"\n",
    "    def find(self, value):\n",
    "        if not self.root:\n",
    "            return False\n",
    "        \n",
    "        else:\n",
    "            current = self.root\n",
    "            while True:\n",
    "                if value == current.value:\n",
    "                    return True\n",
    "                \n",
    "                elif value < current.value:\n",
    "                    if current.left == None:\n",
    "                        return False\n",
    "                    else:\n",
    "                        current = current.left\n",
    "                        \n",
    "                elif value > current.value:\n",
    "                    if current.right == None:\n",
    "                        return False\n",
    "                    else:\n",
    "                        current = current.right\n",
    "                        \n",
    "    def search(self, value):\n",
    "        if not self.root:\n",
    "            return \"Not found\"\n",
    "        \n",
    "        else:\n",
    "            current = self.root\n",
    "            while True:\n",
    "                if value == current.value:\n",
    "                    # print(current.value)\n",
    "                    return current\n",
    "                \n",
    "                elif value < current.value:\n",
    "                    if current.left == None:\n",
    "                        return \"Not found\"\n",
    "                    else:\n",
    "                        current = current.left\n",
    "                        \n",
    "                elif value > current.value:\n",
    "                    if current.right == None:\n",
    "                        return \"Not found\"\n",
    "                    else:\n",
    "                        current = current.right\n",
    "                        \n",
    "    def BreadthFirstSearch(self):\n",
    "        queue = []\n",
    "        data = []\n",
    "        queue.append(self.root)\n",
    "        while len(queue):\n",
    "            temp = queue.pop(0)\n",
    "            data.append(temp.value)\n",
    "            \n",
    "            if temp.left:\n",
    "                queue.append(temp.left)\n",
    "                \n",
    "            if temp.right:\n",
    "                queue.append(temp.right)\n",
    "                \n",
    "        return data\n",
    "    \n",
    "    def DepthFirstSearchPreOrder(self):\n",
    "        data = []\n",
    "        temp = self.root\n",
    "        \n",
    "        def traverse(node):\n",
    "            data.append(node.value)\n",
    "            \n",
    "            if node.left:\n",
    "                traverse(node.left)\n",
    "                \n",
    "            if node.right:\n",
    "                traverse(node.right)\n",
    "                \n",
    "        traverse(temp)\n",
    "        return data\n",
    "        \n",
    "    def DepthFirstSearchInOrder(self):\n",
    "        data = []\n",
    "        temp = self.root\n",
    "        \n",
    "        def traverse(node):\n",
    "            if node.left:\n",
    "                traverse(node.left)\n",
    "            \n",
    "            data.append(node.value)\n",
    "            \n",
    "            if node.right:\n",
    "                traverse(node.right)\n",
    "            \n",
    "        traverse(temp)\n",
    "        return data\n",
    "    \n",
    "    def DepthFirstSearchPostOrder(self):\n",
    "        data = []\n",
    "        temp = self.root\n",
    "        \n",
    "        def traverse(node):\n",
    "            if node.left:\n",
    "                traverse(node.left)\n",
    "                \n",
    "            if node.right:\n",
    "                traverse(node.right)\n",
    "                \n",
    "            data.append(node.value)\n",
    "        \n",
    "        traverse(temp)\n",
    "        return data"
   ]
  },
  {
   "cell_type": "code",
   "execution_count": 60,
   "metadata": {},
   "outputs": [
    {
     "name": "stdout",
     "output_type": "stream",
     "text": [
      "True\n",
      "False\n",
      "[5, 3, 8, 1, 4, 6, 9]\n",
      "[5, 3, 1, 4, 8, 6, 9]\n",
      "[1, 3, 4, 5, 6, 8, 9]\n",
      "[1, 4, 3, 6, 9, 8, 5]\n"
     ]
    }
   ],
   "source": [
    "t = BinarySearchTree()\n",
    "t.insert(5)\n",
    "t.insert(3)\n",
    "t.insert(8)\n",
    "t.insert(1)\n",
    "t.insert(4)\n",
    "t.insert(9)\n",
    "t.insert(6)\n",
    "print(t.find(5)) # True\n",
    "print(t.find(20)) # False\n",
    "# t.search(9) # Returns the node, if the value specified exists.\n",
    "print(t.BreadthFirstSearch()) # [5, 3, 8, 1, 4, 6, 9]\n",
    "print(t.DepthFirstSearchPreOrder()) # [5, 3, 1, 4, 8, 6, 9]\n",
    "print(t.DepthFirstSearchInOrder()) # [1, 3, 4, 5, 6, 8, 9]\n",
    "print(t.DepthFirstSearchPostOrder()) # [1, 4, 3, 6, 9, 8, 5]"
   ]
  },
  {
   "cell_type": "code",
   "execution_count": null,
   "metadata": {},
   "outputs": [],
   "source": []
  },
  {
   "cell_type": "markdown",
   "metadata": {},
   "source": [
    "# Binary Heap"
   ]
  },
  {
   "cell_type": "code",
   "execution_count": 61,
   "metadata": {},
   "outputs": [],
   "source": [
    "import math"
   ]
  },
  {
   "cell_type": "code",
   "execution_count": 62,
   "metadata": {},
   "outputs": [],
   "source": [
    "class MaxBinaryHeap:\n",
    "    def __init__(self):\n",
    "        self.values = []\n",
    "    \n",
    "    def insert(self, value):\n",
    "        self.values.append(value)\n",
    "        self.bubbleUp()\n",
    "        return self\n",
    "    \n",
    "    def bubbleUp(self):\n",
    "        idx = len(self.values) - 1\n",
    "        element = self.values[idx]\n",
    "        \n",
    "        while idx > 0:\n",
    "            parentIdx = math.floor((idx - 1) / 2)\n",
    "            parent = self.values[parentIdx]\n",
    "            \n",
    "            if element > parent:\n",
    "                self.values[parentIdx] = element\n",
    "                self.values[idx] = parent\n",
    "                idx = parentIdx\n",
    "            else:\n",
    "                break\n",
    "                \n",
    "    def extractMax(self):\n",
    "        result = self.values[0]\n",
    "        end = self.values.pop()\n",
    "        if len(self.values) > 0:\n",
    "            self.values[0] = end\n",
    "            self.sinkDown()\n",
    "        return result\n",
    "    \n",
    "    def sinkDown(self):\n",
    "        idx = 0\n",
    "        element = self.values[idx]\n",
    "        length = len(self.values)\n",
    "        \n",
    "        while True:\n",
    "            leftChildIdx = 2 * idx + 1\n",
    "            rightChildIdx = 2 * idx + 2\n",
    "            swap = None\n",
    "            \n",
    "            if leftChildIdx < length:\n",
    "                leftChild = self.values[leftChildIdx]\n",
    "                if leftChild > element:\n",
    "                    swap = leftChildIdx\n",
    "                \n",
    "            if rightChildIdx < length:\n",
    "                rightChild = self.values[rightChildIdx]\n",
    "                if (swap == None and rightChild > element) or (swap != None and rightChild > leftChild):\n",
    "                    swap = rightChildIdx\n",
    "                \n",
    "            if swap == None:\n",
    "                break\n",
    "            \n",
    "            self.values[idx] = self.values[swap]\n",
    "            self.values[swap] = element\n",
    "            idx = swap"
   ]
  },
  {
   "cell_type": "code",
   "execution_count": 63,
   "metadata": {},
   "outputs": [
    {
     "data": {
      "text/plain": [
       "[30, 10, 20, 5]"
      ]
     },
     "execution_count": 63,
     "metadata": {},
     "output_type": "execute_result"
    }
   ],
   "source": [
    "heap = MaxBinaryHeap()\n",
    "heap.insert(10)\n",
    "heap.insert(20)\n",
    "heap.insert(30)\n",
    "heap.insert(5)\n",
    "# print(heap.extractMax())\n",
    "# print(heap.extractMax())\n",
    "# print(heap.extractMax())\n",
    "# print(heap.extractMax())\n",
    "heap.values"
   ]
  },
  {
   "cell_type": "code",
   "execution_count": null,
   "metadata": {},
   "outputs": [],
   "source": []
  },
  {
   "cell_type": "markdown",
   "metadata": {},
   "source": [
    "# Priority Queue Using Min. Binary Heap"
   ]
  },
  {
   "cell_type": "code",
   "execution_count": 64,
   "metadata": {},
   "outputs": [],
   "source": [
    "class PriorityQueueNode:\n",
    "    def __init__(self, value, priority):\n",
    "        self.value = value\n",
    "        self.priority = priority"
   ]
  },
  {
   "cell_type": "code",
   "execution_count": 121,
   "metadata": {},
   "outputs": [],
   "source": [
    "# Value Increases with decreased Priorities.\n",
    "class PriorityQueue:\n",
    "    def __init__(self):\n",
    "        self.values = []\n",
    "    \n",
    "    def enqueue(self, value, priority):\n",
    "        newNode = PriorityQueueNode(value, priority)\n",
    "        self.values.append(newNode)\n",
    "        self.bubbleUp()\n",
    "        return self\n",
    "    \n",
    "    def bubbleUp(self):\n",
    "        idx = len(self.values) - 1\n",
    "        element = self.values[idx]\n",
    "        \n",
    "        while idx > 0:\n",
    "            parentIdx = math.floor((idx - 1) / 2)\n",
    "            parent = self.values[parentIdx]\n",
    "            \n",
    "            if element.priority < parent.priority:\n",
    "                self.values[parentIdx] = element\n",
    "                self.values[idx] = parent\n",
    "                idx = parentIdx\n",
    "            \n",
    "            else:\n",
    "                break\n",
    "                \n",
    "    def dequeue(self):\n",
    "        result = self.values[0]\n",
    "        end = self.values.pop()\n",
    "        \n",
    "        if len(self.values) > 0:\n",
    "            self.values[0] = end\n",
    "            self.sinkDown()\n",
    "            \n",
    "        return result.value\n",
    "    \n",
    "    def sinkDown(self):\n",
    "        idx = 0\n",
    "        element = self.values[idx]\n",
    "        length = len(self.values)\n",
    "        \n",
    "        while True:\n",
    "            leftChildIdx = 2 * idx + 1\n",
    "            rightChildIdx = 2 * idx + 2\n",
    "            swap = None\n",
    "            \n",
    "            if leftChildIdx < length:\n",
    "                leftChild = self.values[leftChildIdx]\n",
    "                if leftChild.priority < element.priority:\n",
    "                    swap = leftChildIdx\n",
    "                \n",
    "            if rightChildIdx < length:\n",
    "                rightChild = self.values[rightChildIdx]\n",
    "                if (swap == None and rightChild.priority < element.priority) or (swap != None and rightChild.priority < leftChild.priority):\n",
    "                    swap = rightChildIdx\n",
    "                \n",
    "            if swap == None:\n",
    "                break\n",
    "                \n",
    "            self.values[idx] = self.values[swap]\n",
    "            self.values[swap] = element\n",
    "            idx = swap\n",
    "    \n",
    "                \n",
    "    def logValues(self):\n",
    "        arr = []\n",
    "        for i in self.values:\n",
    "            arr.append(i.value)\n",
    "        print(arr)\n",
    "        \n",
    "    def logPriorities(self):\n",
    "        arr = []\n",
    "        for i in self.values:\n",
    "            arr.append(i.priority)\n",
    "        print(arr)"
   ]
  },
  {
   "cell_type": "code",
   "execution_count": 123,
   "metadata": {},
   "outputs": [
    {
     "name": "stdout",
     "output_type": "stream",
     "text": [
      "['Barrack Obama', 'Taylor Swift', 'leBron J.', 'M. Jordan']\n",
      "[0, 1, 4, 3]\n",
      "\n",
      "Barrack Obama\n",
      "Taylor Swift\n",
      "M. Jordan\n",
      "leBron J.\n",
      "\n",
      "[]\n",
      "[]\n"
     ]
    }
   ],
   "source": [
    "pq = PriorityQueue()\n",
    "pq.enqueue('Taylor Swift', 1)\n",
    "pq.enqueue('Barrack Obama', 0)\n",
    "pq.enqueue('leBron J.', 4)\n",
    "pq.enqueue('M. Jordan', 3)\n",
    "pq.logValues()\n",
    "pq.logPriorities()\n",
    "print()\n",
    "print(pq.dequeue())\n",
    "print(pq.dequeue())\n",
    "print(pq.dequeue())\n",
    "print(pq.dequeue())\n",
    "print()\n",
    "pq.logValues()\n",
    "pq.logPriorities()"
   ]
  },
  {
   "cell_type": "code",
   "execution_count": null,
   "metadata": {},
   "outputs": [],
   "source": []
  },
  {
   "cell_type": "markdown",
   "metadata": {},
   "source": [
    "# Graph"
   ]
  },
  {
   "cell_type": "code",
   "execution_count": null,
   "metadata": {},
   "outputs": [],
   "source": []
  }
 ],
 "metadata": {
  "celltoolbar": "Raw Cell Format",
  "kernelspec": {
   "display_name": "Python 3",
   "language": "python",
   "name": "python3"
  },
  "language_info": {
   "codemirror_mode": {
    "name": "ipython",
    "version": 3
   },
   "file_extension": ".py",
   "mimetype": "text/x-python",
   "name": "python",
   "nbconvert_exporter": "python",
   "pygments_lexer": "ipython3",
   "version": "3.7.1"
  }
 },
 "nbformat": 4,
 "nbformat_minor": 2
}
