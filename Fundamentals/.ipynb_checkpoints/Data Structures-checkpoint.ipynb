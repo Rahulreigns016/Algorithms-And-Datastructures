{
 "cells": [
  {
   "cell_type": "code",
   "execution_count": 1,
   "metadata": {},
   "outputs": [],
   "source": [
    "class SLLNode:\n",
    "    # Singly Linked List node consists of two portions -> 'value' a   \n",
    "    def __init__(self, value):\n",
    "        self.value = value\n",
    "        self.next = None\n",
    "        "
   ]
  },
  {
   "cell_type": "code",
   "execution_count": 2,
   "metadata": {},
   "outputs": [],
   "source": [
    "class SinglyLinkedList:\n",
    "    def __init__(self):\n",
    "        self.head = None\n",
    "        self.tail = None\n",
    "        self.length = 0\n",
    "        \n",
    "    def push(self, value):\n",
    "        newNode = SLLNode(value)\n",
    "        if not self.head:\n",
    "            self.head = newNode\n",
    "            self.tail = newNode\n",
    "        else:\n",
    "            self.tail.next = newNode\n",
    "            self.tail = newNode\n",
    "        self.length += 1\n",
    "        return self\n",
    "        \n",
    "    def pop(self):\n",
    "        if self.length == 0:\n",
    "            return None\n",
    "        \n",
    "        removed = self.tail\n",
    "        if self.length == 1:\n",
    "            self.head = None\n",
    "            self.tail = None\n",
    "        else:\n",
    "            prev = self.head\n",
    "            temp = self.head\n",
    "            while temp.next != None:\n",
    "                prev = temp\n",
    "                temp = temp.next\n",
    "            self.tail = prev\n",
    "            self.tail.next = None\n",
    "        self.length -= 1\n",
    "        return removed.value\n",
    "    \n",
    "    def unshift(self, value):\n",
    "        newNode = SLLNode(value)\n",
    "        if not self.head:\n",
    "            self.head = newNode\n",
    "            self.tail = newNode\n",
    "        else:\n",
    "            newNode.next = self.head\n",
    "            self.head = newNode\n",
    "        self.length += 1\n",
    "        return self\n",
    "    \n",
    "    def shift(self):\n",
    "        if self.length == 0:\n",
    "            return None\n",
    "        \n",
    "        removed = self.head\n",
    "        if self.length == 1:\n",
    "            self.head = None\n",
    "            self.tail = None\n",
    "        else:\n",
    "            self.head = removed.next\n",
    "            removed.next = None\n",
    "        self.length -= 1\n",
    "        return removed.value\n",
    "        \n",
    "    def get(self, pos):\n",
    "        if (pos < 0 or pos >= self.length):\n",
    "            return None\n",
    "        temp = self.head\n",
    "        for i in range(pos):\n",
    "            temp = temp.next\n",
    "        return temp\n",
    "    \n",
    "    def set(self, pos, value):\n",
    "        if (pos < 0 or pos >= self.length):\n",
    "            return None\n",
    "        if self.length == 0:\n",
    "            return None\n",
    "        current = self.get(pos)\n",
    "        if current:\n",
    "            current.value = value\n",
    "            return current.value\n",
    "        return False\n",
    "        \n",
    "    def insert(self, pos, value):\n",
    "        if (pos < 0 or pos > self.length):\n",
    "            return None\n",
    "        if pos == 0:\n",
    "            return self.unshift(value)\n",
    "        elif pos == self.length:\n",
    "            return self.push(value)\n",
    "        newNode = SLLNode(value)\n",
    "        prev = self.get (pos - 1)\n",
    "        current = self.get(pos)\n",
    "        newNode.next = current\n",
    "        prev.next = newNode\n",
    "        self.length += 1\n",
    "        return self\n",
    "    \n",
    "    def remove(self, pos):\n",
    "        if (pos < 0 or pos > self.length):\n",
    "            return None\n",
    "        if pos == 0:\n",
    "            return self.shift()\n",
    "        if pos == self.length - 1:\n",
    "            return self.pop()\n",
    "        prev = self.get(pos - 1)\n",
    "        current = self.get(pos)\n",
    "        prev.next = current.next\n",
    "        self.length -= 1\n",
    "        return current.value\n",
    "    \n",
    "    def reverse(self):\n",
    "        node = self.head\n",
    "        self.head = self.tail\n",
    "        self.tail = node\n",
    "        prev = None\n",
    "        after = None\n",
    "        for i in range(self.length):\n",
    "            after = node.next\n",
    "            node.next = prev\n",
    "            prev = node\n",
    "            node = after\n",
    "        return self\n",
    "    \n",
    "    def log(self):\n",
    "        current = self.head\n",
    "        print('Length of the Linked List: ', self.length)\n",
    "        for i in range(self.length):\n",
    "            print(current.value, end = ' ')\n",
    "            current = current.next"
   ]
  },
  {
   "cell_type": "code",
   "execution_count": 6,
   "metadata": {},
   "outputs": [
    {
     "data": {
      "text/plain": [
       "'are'"
      ]
     },
     "execution_count": 6,
     "metadata": {},
     "output_type": "execute_result"
    }
   ],
   "source": [
    "l = SinglyLinkedList()\n",
    "l.push('Hi')\n",
    "l.push('How')\n",
    "l.push('are')\n",
    "l.push('You')\n",
    "l.push('?')\n",
    "l.remove(2)\n",
    "# l.shift()\n",
    "# l.shift()\n",
    "# l.shift()\n",
    "# l.shift()\n",
    "# l.shift()\n",
    "# l.pop()"
   ]
  },
  {
   "cell_type": "code",
   "execution_count": 4,
   "metadata": {},
   "outputs": [
    {
     "name": "stdout",
     "output_type": "stream",
     "text": [
      "Length of the Linked List:  4\n",
      "Hi How You ? "
     ]
    }
   ],
   "source": [
    "l.log()"
   ]
  },
  {
   "cell_type": "code",
   "execution_count": 5,
   "metadata": {},
   "outputs": [
    {
     "name": "stdout",
     "output_type": "stream",
     "text": [
      "Length of the Linked List:  4\n",
      "? You How Hi "
     ]
    }
   ],
   "source": [
    "l.reverse()\n",
    "l.log()"
   ]
  },
  {
   "cell_type": "code",
   "execution_count": null,
   "metadata": {},
   "outputs": [],
   "source": []
  },
  {
   "cell_type": "code",
   "execution_count": null,
   "metadata": {},
   "outputs": [],
   "source": []
  }
 ],
 "metadata": {
  "kernelspec": {
   "display_name": "Python 3",
   "language": "python",
   "name": "python3"
  },
  "language_info": {
   "codemirror_mode": {
    "name": "ipython",
    "version": 3
   },
   "file_extension": ".py",
   "mimetype": "text/x-python",
   "name": "python",
   "nbconvert_exporter": "python",
   "pygments_lexer": "ipython3",
   "version": "3.7.1"
  }
 },
 "nbformat": 4,
 "nbformat_minor": 2
}
