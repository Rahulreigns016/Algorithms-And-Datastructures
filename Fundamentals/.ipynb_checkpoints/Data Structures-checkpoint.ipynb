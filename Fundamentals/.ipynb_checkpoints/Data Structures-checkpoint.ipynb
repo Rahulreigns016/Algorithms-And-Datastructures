{
 "cells": [
  {
   "cell_type": "markdown",
   "metadata": {},
   "source": [
    "# Singly Linked List"
   ]
  },
  {
   "cell_type": "code",
   "execution_count": 18,
   "metadata": {},
   "outputs": [],
   "source": [
    "class SLLNode:\n",
    "    # Singly Linked List node consists of two portions -> 'value' and 'next' pointer   \n",
    "    def __init__(self, value):\n",
    "        self.value = value\n",
    "        self.next = None\n",
    "        "
   ]
  },
  {
   "cell_type": "code",
   "execution_count": 19,
   "metadata": {},
   "outputs": [],
   "source": [
    "class SinglyLinkedList:\n",
    "    # My Linked List contains a 'head', a 'tail', and a 'length'.\n",
    "    def __init__(self):\n",
    "        self.head = None\n",
    "        self.tail = None\n",
    "        self.length = 0\n",
    "        \n",
    "    # Inserts the new Node at the tail.\n",
    "    def push(self, value):\n",
    "        newNode = SLLNode(value)\n",
    "        if not self.head:\n",
    "            self.head = newNode\n",
    "            self.tail = newNode\n",
    "        else:\n",
    "            self.tail.next = newNode\n",
    "            self.tail = newNode\n",
    "        self.length += 1\n",
    "        return self\n",
    "        \n",
    "    # Removes the tail node and makes the previous node the tail.\n",
    "    def pop(self):\n",
    "        if self.length == 0:\n",
    "            return None\n",
    "        \n",
    "        removed = self.tail\n",
    "        if self.length == 1:\n",
    "            self.head = None\n",
    "            self.tail = None\n",
    "        else:\n",
    "            prev = self.head\n",
    "            temp = self.head\n",
    "            while temp.next != None:\n",
    "                prev = temp\n",
    "                temp = temp.next\n",
    "            self.tail = prev\n",
    "            self.tail.next = None\n",
    "        self.length -= 1\n",
    "        return removed.value\n",
    "    \n",
    "    # Inserts a new Node at the head.\n",
    "    def unshift(self, value):\n",
    "        newNode = SLLNode(value)\n",
    "        if not self.head:\n",
    "            self.head = newNode\n",
    "            self.tail = newNode\n",
    "        else:\n",
    "            newNode.next = self.head\n",
    "            self.head = newNode\n",
    "        self.length += 1\n",
    "        return self\n",
    "    \n",
    "    # Removes the head and makes next node as head.\n",
    "    def shift(self):\n",
    "        if self.length == 0:\n",
    "            return None\n",
    "        \n",
    "        removed = self.head\n",
    "        if self.length == 1:\n",
    "            self.head = None\n",
    "            self.tail = None\n",
    "        else:\n",
    "            self.head = removed.next\n",
    "            removed.next = None\n",
    "        self.length -= 1\n",
    "        return removed.value\n",
    "    \n",
    "    # Returns the node at the given position.\n",
    "    def get(self, pos):\n",
    "        if (pos < 0 or pos >= self.length):\n",
    "            return None\n",
    "        temp = self.head\n",
    "        for i in range(pos):\n",
    "            temp = temp.next\n",
    "        return temp\n",
    "    \n",
    "    # Updates the value of the node at the position specified position with a given value. \n",
    "    def set(self, pos, value):\n",
    "        if (pos < 0 or pos >= self.length):\n",
    "            return None\n",
    "        if self.length == 0:\n",
    "            return None\n",
    "        current = self.get(pos)\n",
    "        if current:\n",
    "            current.value = value\n",
    "            return current.value\n",
    "        return False\n",
    "        \n",
    "    # Inserts the node at the specified position.\n",
    "    def insert(self, pos, value):\n",
    "        if (pos < 0 or pos > self.length):\n",
    "            return None\n",
    "        if pos == 0:\n",
    "            return self.unshift(value)\n",
    "        elif pos == self.length:\n",
    "            return self.push(value)\n",
    "        newNode = SLLNode(value)\n",
    "        prev = self.get (pos - 1)\n",
    "        current = self.get(pos)\n",
    "        newNode.next = current\n",
    "        prev.next = newNode\n",
    "        self.length += 1\n",
    "        return self\n",
    "    \n",
    "    # Removes the node from the specified position.\n",
    "    def remove(self, pos):\n",
    "        if (pos < 0 or pos > self.length):\n",
    "            return None\n",
    "        if pos == 0:\n",
    "            return self.shift()\n",
    "        if pos == self.length - 1:\n",
    "            return self.pop()\n",
    "        prev = self.get(pos - 1)\n",
    "        current = self.get(pos)\n",
    "        prev.next = current.next\n",
    "        self.length -= 1\n",
    "        return current.value\n",
    "    \n",
    "    # Reverses the Linked List.\n",
    "    def reverse(self):\n",
    "        node = self.head\n",
    "        self.head = self.tail\n",
    "        self.tail = node\n",
    "        prev = None\n",
    "        after = None\n",
    "        for i in range(self.length):\n",
    "            after = node.next\n",
    "            node.next = prev\n",
    "            prev = node\n",
    "            node = after\n",
    "        return self\n",
    "    \n",
    "    # Prints the linked list as an array (For Debugging purposes).\n",
    "    def log(self):\n",
    "        current = self.head\n",
    "        print('Length of the Linked List: ', self.length)\n",
    "        arr = []\n",
    "        for i in range(self.length):\n",
    "            arr.append(current.value)\n",
    "            current = current.next\n",
    "        print(arr)"
   ]
  },
  {
   "cell_type": "code",
   "execution_count": 29,
   "metadata": {},
   "outputs": [
    {
     "data": {
      "text/plain": [
       "<__main__.SinglyLinkedList at 0x7f724e758898>"
      ]
     },
     "execution_count": 29,
     "metadata": {},
     "output_type": "execute_result"
    }
   ],
   "source": [
    "l = SinglyLinkedList()\n",
    "l.push('Hi')\n",
    "l.push('How')\n",
    "l.push('are')\n",
    "l.push('You')\n",
    "l.push('?')\n",
    "# l.remove(2) # 'are'\n",
    "# l.shift()\n",
    "# l.shift()\n",
    "# l.shift()\n",
    "# l.shift()\n",
    "# l.shift()\n",
    "# l.pop()"
   ]
  },
  {
   "cell_type": "code",
   "execution_count": 30,
   "metadata": {},
   "outputs": [
    {
     "name": "stdout",
     "output_type": "stream",
     "text": [
      "Length of the Linked List:  5\n",
      "['Hi', 'How', 'are', 'You', '?']\n"
     ]
    }
   ],
   "source": [
    "l.log()"
   ]
  },
  {
   "cell_type": "code",
   "execution_count": null,
   "metadata": {},
   "outputs": [],
   "source": []
  },
  {
   "cell_type": "markdown",
   "metadata": {},
   "source": [
    "# Stack"
   ]
  },
  {
   "cell_type": "code",
   "execution_count": 6,
   "metadata": {},
   "outputs": [],
   "source": [
    "class StackNode:\n",
    "    def __init__(self, value):\n",
    "        self.value = value\n",
    "        self.next = None"
   ]
  },
  {
   "cell_type": "code",
   "execution_count": 7,
   "metadata": {},
   "outputs": [],
   "source": [
    "# Stack is a LIFO(Last In First Out Data Structure).\n",
    "class Stack:\n",
    "    def __init__(self):\n",
    "        self.first = None\n",
    "        self.last = None\n",
    "        self.size = 0\n",
    "    \n",
    "    def push(self, value):\n",
    "        newNode = StackNode(value)\n",
    "        \n",
    "        if not self.first:\n",
    "            self.first = newNode\n",
    "            self.last = newNode\n",
    "        else:\n",
    "            newNode.next = self.first\n",
    "            self.first = newNode\n",
    "        self.size += 1\n",
    "        return self\n",
    "    \n",
    "    def pop(self):\n",
    "        if self.size == 0:\n",
    "            return None\n",
    "        removed = self.first\n",
    "        self.first = self.first.next\n",
    "        removed.next = None\n",
    "        self.size -= 1\n",
    "        return removed.value\n",
    "    \n",
    "    def log(self):\n",
    "        temp = self.first\n",
    "        arr = []\n",
    "        for i in range(self.size):\n",
    "            arr.append(temp.value)\n",
    "            temp = temp.next\n",
    "        print(arr)"
   ]
  },
  {
   "cell_type": "code",
   "execution_count": 9,
   "metadata": {},
   "outputs": [
    {
     "data": {
      "text/plain": [
       "<__main__.Stack at 0x7f725c2ea080>"
      ]
     },
     "execution_count": 9,
     "metadata": {},
     "output_type": "execute_result"
    }
   ],
   "source": [
    "s = Stack()\n",
    "s.push(3) # 3\n",
    "s.push(2) # 2 -> 3\n",
    "s.push(1) # 1 -> 2 -> 3\n",
    "\n",
    "# s.pop() # 1\n",
    "# s.pop() # 2\n",
    "# s.pop() # 3"
   ]
  },
  {
   "cell_type": "code",
   "execution_count": 10,
   "metadata": {},
   "outputs": [
    {
     "name": "stdout",
     "output_type": "stream",
     "text": [
      "[1, 2, 3]\n"
     ]
    }
   ],
   "source": [
    "s.log()"
   ]
  },
  {
   "cell_type": "code",
   "execution_count": null,
   "metadata": {},
   "outputs": [],
   "source": []
  },
  {
   "cell_type": "markdown",
   "metadata": {},
   "source": [
    "# Queue"
   ]
  },
  {
   "cell_type": "code",
   "execution_count": 11,
   "metadata": {},
   "outputs": [],
   "source": [
    "class QueueNode:\n",
    "    def __init__(self, value):\n",
    "        self.value = value\n",
    "        self.next = None"
   ]
  },
  {
   "cell_type": "code",
   "execution_count": 12,
   "metadata": {},
   "outputs": [],
   "source": [
    "# Queue is a FIFO(First In First Out Data Structure).\n",
    "class Queue:\n",
    "    def __init__(self):\n",
    "        self.start = None\n",
    "        self.end = None\n",
    "        self.length = 0\n",
    "    \n",
    "    def enqueue(self, value):\n",
    "        newNode = StackNode(value)\n",
    "        if not self.start:\n",
    "            self.start = newNode\n",
    "            self.end = newNode\n",
    "        else:\n",
    "            self.end.next = newNode\n",
    "            self.end = newNode\n",
    "        self.length += 1\n",
    "        return self\n",
    "    \n",
    "    def dequeue(self):\n",
    "        if self.length == 0:\n",
    "            return None\n",
    "        removed = self.start\n",
    "        self.start = self.start.next\n",
    "        removed.next = None\n",
    "        self.length -= 1\n",
    "        return removed.value\n",
    "    \n",
    "    def log(self):\n",
    "        temp = self.start\n",
    "        arr = []\n",
    "        for i in range(self.length):\n",
    "            arr.append(temp.value)\n",
    "            temp = temp.next\n",
    "        print(arr)"
   ]
  },
  {
   "cell_type": "code",
   "execution_count": 14,
   "metadata": {},
   "outputs": [
    {
     "data": {
      "text/plain": [
       "<__main__.Queue at 0x7f725c34dda0>"
      ]
     },
     "execution_count": 14,
     "metadata": {},
     "output_type": "execute_result"
    }
   ],
   "source": [
    "q = Queue()\n",
    "q.enqueue(1) # 1\n",
    "q.enqueue(2) # 1 -> 2\n",
    "q.enqueue(3) # 1 -> 2 -> 3\n",
    "\n",
    "# q.dequeue() # 1\n",
    "# q.dequeue() # 2\n",
    "# q.dequeue() # 3"
   ]
  },
  {
   "cell_type": "code",
   "execution_count": 15,
   "metadata": {},
   "outputs": [
    {
     "name": "stdout",
     "output_type": "stream",
     "text": [
      "[1, 2, 3]\n"
     ]
    }
   ],
   "source": [
    "q.log()"
   ]
  },
  {
   "cell_type": "code",
   "execution_count": null,
   "metadata": {},
   "outputs": [],
   "source": []
  },
  {
   "cell_type": "code",
   "execution_count": null,
   "metadata": {},
   "outputs": [],
   "source": []
  },
  {
   "cell_type": "code",
   "execution_count": null,
   "metadata": {},
   "outputs": [],
   "source": []
  }
 ],
 "metadata": {
  "kernelspec": {
   "display_name": "Python 3",
   "language": "python",
   "name": "python3"
  },
  "language_info": {
   "codemirror_mode": {
    "name": "ipython",
    "version": 3
   },
   "file_extension": ".py",
   "mimetype": "text/x-python",
   "name": "python",
   "nbconvert_exporter": "python",
   "pygments_lexer": "ipython3",
   "version": "3.7.1"
  }
 },
 "nbformat": 4,
 "nbformat_minor": 2
}
